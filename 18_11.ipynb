{
  "nbformat": 4,
  "nbformat_minor": 0,
  "metadata": {
    "colab": {
      "name": "18/11.ipynb",
      "provenance": [],
      "authorship_tag": "ABX9TyOr8ruGfVsfX5UkeUb+n1wC",
      "include_colab_link": true
    },
    "kernelspec": {
      "name": "python3",
      "display_name": "Python 3"
    },
    "language_info": {
      "name": "python"
    }
  },
  "cells": [
    {
      "cell_type": "markdown",
      "metadata": {
        "id": "view-in-github",
        "colab_type": "text"
      },
      "source": [
        "<a href=\"https://colab.research.google.com/github/lenaphamthi/baitapchuong3/blob/main/18_11.ipynb\" target=\"_parent\"><img src=\"https://colab.research.google.com/assets/colab-badge.svg\" alt=\"Open In Colab\"/></a>"
      ]
    },
    {
      "cell_type": "code",
      "metadata": {
        "colab": {
          "base_uri": "https://localhost:8080/"
        },
        "id": "Wsm0g_8-qFND",
        "outputId": "a9d54f01-f20c-4181-92f0-a8560e8e182a"
      },
      "source": [
        "dtb = float(input(\"nhap diem: \"))\n",
        "if(dtb<5):\n",
        "  print (\"yeu\")\n",
        "elif(dtb<7):\n",
        "   print(\"trung binh\")\n",
        "elif(dtb<8):\n",
        "  print(\"kha\")\n",
        "elif(dtb<9):\n",
        "  print(\"gioi\")\n",
        "else:\n",
        "     print(\"xuat sac\")"
      ],
      "execution_count": 15,
      "outputs": [
        {
          "output_type": "stream",
          "name": "stdout",
          "text": [
            "nhap diem: 9.9\n",
            "xuat sac\n"
          ]
        }
      ]
    }
  ]
}