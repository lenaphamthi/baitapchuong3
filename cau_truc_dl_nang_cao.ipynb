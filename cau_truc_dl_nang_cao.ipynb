{
  "nbformat": 4,
  "nbformat_minor": 0,
  "metadata": {
    "colab": {
      "name": "cau_truc_dl_nang_cao.ipynb",
      "provenance": [],
      "authorship_tag": "ABX9TyPqSfXqQxL10gUzR58WKSNR",
      "include_colab_link": true
    },
    "kernelspec": {
      "name": "python3",
      "display_name": "Python 3"
    },
    "language_info": {
      "name": "python"
    }
  },
  "cells": [
    {
      "cell_type": "markdown",
      "metadata": {
        "id": "view-in-github",
        "colab_type": "text"
      },
      "source": [
        "<a href=\"https://colab.research.google.com/github/lenaphamthi/baitapchuong3/blob/main/cau_truc_dl_nang_cao.ipynb\" target=\"_parent\"><img src=\"https://colab.research.google.com/assets/colab-badge.svg\" alt=\"Open In Colab\"/></a>"
      ]
    },
    {
      "cell_type": "markdown",
      "metadata": {
        "id": "gpYVKy5D00Jp"
      },
      "source": [
        "bai 1 : Nhập vào 1 số nguyên dương N từ bàn phím\n",
        "- Hãy xây dựng 1 dictionary với các phần tử chỉ mục và giá trị có dạng (i: log(i)) với I đi từ\n",
        "0 tới N\n",
        "- Hiển thị dictionary trên ra màn hình"
      ]
    },
    {
      "cell_type": "code",
      "metadata": {
        "colab": {
          "base_uri": "https://localhost:8080/"
        },
        "id": "5LGYwbdd01-M",
        "outputId": "22bf7ea2-144c-4dcb-f269-c605028207d5"
      },
      "source": [
        "import math\n",
        "a = {}\n",
        "print(\"nhap 1 so nguyen duong : \")\n",
        "n = int(input())\n",
        "for i in range(0,n):\n",
        "  if i == 0:\n",
        "    a[i] =  \"lỗi\"\n",
        "  else:\n",
        "    b = i\n",
        "    b = math.log(b)\n",
        "    a[i] = b\n",
        "print(a)\n"
      ],
      "execution_count": 4,
      "outputs": [
        {
          "output_type": "stream",
          "name": "stdout",
          "text": [
            "nhap 1 so nguyen duong : \n",
            "10\n",
            "{0: 'lỗi', 1: 0.0, 2: 0.6931471805599453, 3: 1.0986122886681098, 4: 1.3862943611198906, 5: 1.6094379124341003, 6: 1.791759469228055, 7: 1.9459101490553132, 8: 2.0794415416798357, 9: 2.1972245773362196}\n"
          ]
        }
      ]
    },
    {
      "cell_type": "markdown",
      "metadata": {
        "id": "KLtO2U7s1l_D"
      },
      "source": [
        "Bài 2: Viết chương trình thực hiện các yêu cầu sau:\n",
        "- Nhập vào từ bàn phím một chuỗi các giá trị (có thể là số nguyên, số thực hay các ký tự)\n",
        "cách nhau bởi dấu phẩy (“,”).\n",
        "- Chuyển chuỗi được nhập từ bàn phím thành một danh sách (list)\n",
        "- Hiển thị danh sách đó ra màn hình."
      ]
    },
    {
      "cell_type": "code",
      "metadata": {
        "colab": {
          "base_uri": "https://localhost:8080/"
        },
        "id": "U4edGKeX1ldc",
        "outputId": "7ca103a5-16cb-4e01-f12f-aab492968e6d"
      },
      "source": [
        "a = []\n",
        "b = input(\"nhap so nguyen, thuc hoac cac ky tu: \").split(',')\n",
        "a = b\n",
        "n = list(a) \n",
        "m = len(n)\n",
        "for i in range(1,m):\n",
        "  if n[i] == ' ' or n[i] == ',':\n",
        "    n[i] = []\n",
        "print(n)"
      ],
      "execution_count": 6,
      "outputs": [
        {
          "output_type": "stream",
          "name": "stdout",
          "text": [
            "nhap so nguyen, thuc hoac cac ky tu: a,b,c,d,e,f,g\n",
            "['a', 'b', 'c', 'd', 'e', 'f', 'g']\n"
          ]
        }
      ]
    },
    {
      "cell_type": "markdown",
      "metadata": {
        "id": "XmHrgHed2Fdh"
      },
      "source": [
        "Bài 3: Viết chương trình thực hiện các yêu cầu sau:\n",
        "- Nhập vào từ bàn phím một chuỗi các giá trị (có thể là số nguyên, số thực hay các ký tự)\n",
        "cách nhau bởi dấu phẩy (“,”).\n",
        "- Chuyển chuỗi được nhập từ bàn phím thành một tuple\n",
        "- Hiển thị tuple đó ra màn hình."
      ]
    },
    {
      "cell_type": "code",
      "metadata": {
        "colab": {
          "base_uri": "https://localhost:8080/"
        },
        "id": "xZVSX1Je0uxV",
        "outputId": "423d460a-219b-40bf-caee-1b21a6d0ab21"
      },
      "source": [
        "a = ()\n",
        "b = input(\"nhap so nguyen, thuc hoac cac ky tu: \").split(',')\n",
        "a = b\n",
        "n = tuple(a) \n",
        "m = len(n)\n",
        "for i in range(1,m):\n",
        "  if n[i] == ' ' or n[i] == ',':\n",
        "    n[i] = []\n",
        "print(n)"
      ],
      "execution_count": 7,
      "outputs": [
        {
          "output_type": "stream",
          "name": "stdout",
          "text": [
            "nhap so nguyen, thuc hoac cac ky tu: a,b,c,d,e,f\n",
            "('a', 'b', 'c', 'd', 'e', 'f')\n"
          ]
        }
      ]
    },
    {
      "cell_type": "markdown",
      "metadata": {
        "id": "IBoHff4z2WaL"
      },
      "source": [
        "Bài 4: Viết chương trình thực hiện các yêu cầu sau:\n",
        "- Nhập vào 1 chuỗi các kí tự từ bàn phím, các từ cách nhau bởi ít nhất một khoảng trắng\n",
        "- Chuyển chuỗi vừa nhập thành 1 danh sách với điều kiện phân tách là dấu khoảng trắng\n",
        "(space)\n",
        "- Hiển thị danh sách thu được ra màn hình"
      ]
    },
    {
      "cell_type": "code",
      "metadata": {
        "colab": {
          "base_uri": "https://localhost:8080/"
        },
        "id": "rVUamax-2X5T",
        "outputId": "310c04ba-70f6-4897-888b-75932b4a25f1"
      },
      "source": [
        "n = input(\"nhap text gi do: \").split(' ')\n",
        "print(n)"
      ],
      "execution_count": 10,
      "outputs": [
        {
          "output_type": "stream",
          "name": "stdout",
          "text": [
            "nhap text gi do: xin chao tat ca cac ban\n",
            "['xin', 'chao', 'tat', 'ca', 'cac', 'ban']\n"
          ]
        }
      ]
    }
  ]
}