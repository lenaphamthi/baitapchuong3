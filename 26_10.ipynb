{
  "nbformat": 4,
  "nbformat_minor": 0,
  "metadata": {
    "colab": {
      "name": "26/10.ipynb",
      "provenance": [],
      "include_colab_link": true
    },
    "kernelspec": {
      "name": "python3",
      "display_name": "Python 3"
    },
    "language_info": {
      "name": "python"
    }
  },
  "cells": [
    {
      "cell_type": "markdown",
      "metadata": {
        "id": "view-in-github",
        "colab_type": "text"
      },
      "source": [
        "<a href=\"https://colab.research.google.com/github/lenaphamthi/baitapchuong3/blob/main/26_10.ipynb\" target=\"_parent\"><img src=\"https://colab.research.google.com/assets/colab-badge.svg\" alt=\"Open In Colab\"/></a>"
      ]
    },
    {
      "cell_type": "code",
      "metadata": {
        "id": "qfvmqISSSE2S"
      },
      "source": [
        "bài 1 : Hãy xây dựng một hàm thực hiện các yêu cầu sau:\n",
        "- Xuất ra màn hình câu thông báo: “Lập trình Java 2021”\n",
        "- Hàm không có giá trị trả về"
      ],
      "execution_count": null,
      "outputs": []
    },
    {
      "cell_type": "code",
      "metadata": {
        "colab": {
          "base_uri": "https://localhost:8080/"
        },
        "id": "S5pxpcfDSMTu",
        "outputId": "0877d166-f00c-46ad-c19f-e0c46fb6fe55"
      },
      "source": [
        "def thongbao ():\n",
        "  print (\"Lập trình Java 2021\")\n",
        "thongbao()"
      ],
      "execution_count": null,
      "outputs": [
        {
          "output_type": "stream",
          "name": "stdout",
          "text": [
            "Lập trình Java 2021\n"
          ]
        }
      ]
    },
    {
      "cell_type": "markdown",
      "metadata": {
        "id": "H8GHZum6SHut"
      },
      "source": [
        "Bài 2: Hãy xây dựng một hàm thực hiện các yêu cầu sau:\n",
        "- Nhận một tham số đầu vào là một chuỗi ký tự (kiểu String)\n",
        "- Xuất ra màn hình nội dung chuỗi được truyền vào từ tham số\n",
        "- Hàm không có giá trị trả về"
      ]
    },
    {
      "cell_type": "code",
      "metadata": {
        "colab": {
          "base_uri": "https://localhost:8080/"
        },
        "id": "tSmVYy6VS2HH",
        "outputId": "1e5c2099-9a09-47e5-89f7-81668ed1fc6d"
      },
      "source": [
        "def bai2 ():\n",
        "  print (\"hello world\")\n",
        "bai2 ()\n"
      ],
      "execution_count": null,
      "outputs": [
        {
          "output_type": "stream",
          "name": "stdout",
          "text": [
            "hello world\n"
          ]
        }
      ]
    },
    {
      "cell_type": "markdown",
      "metadata": {
        "id": "nkc0AeDUVIOh"
      },
      "source": [
        "bai 3 :Hãy viết chương trình thực hiện các yêu cầu sau:\n",
        "- Nhập một số nguyên dương n từ bàn phím (kiểm tra nếu không đạt yêu cầu thì bắt nhập\n",
        "lại)\n",
        "- Nhập một thông điệp từ bàn phím\n",
        "- Gọi thực hiện hàm ở Bài 2 n lần với thông điệp được truyền làm tham số đầu vào của hàm."
      ]
    },
    {
      "cell_type": "markdown",
      "metadata": {
        "id": "MKOr3MW0Wre2"
      },
      "source": [
        "Bài 4: Hãy viết chương trình thực hiện các yêu cầu sau:\n",
        "- Xây dựng hàm giải phương trình bậc 1 (ax + b = 0), với hệ số a & b được truyền vào qua\n",
        "thông số của hàm.\n",
        "- Chương trình chính nhận các thông số a, b từ bàn phím\n",
        "- Chương trình chính gọi hàm giải phương trình bậc 1 nêu trên"
      ]
    },
    {
      "cell_type": "code",
      "metadata": {
        "colab": {
          "base_uri": "https://localhost:8080/"
        },
        "id": "5Lvtm5M0Wj0i",
        "outputId": "27c95791-8d30-488a-c818-470a910771aa"
      },
      "source": [
        "print(\"Giải phương trình bậc 1: ax + bx + c = 0\")\n",
        "a = float(input(\"Nhập a: \"))\n",
        "b = float(input(\"Nhập b: \"))\n",
        "def giai_phuong_trinh_bac_1 ():\n",
        " if a == 0:\n",
        "  if b == 0 :\n",
        "    print (\"vo so nghiem\")\n",
        "  else :\n",
        "      print (\"vo nghiem\")\n",
        " else:\n",
        "    print (\"phuong trinh co nghiem x = \", -b/a)\n",
        "giai_phuong_trinh_bac_1()"
      ],
      "execution_count": null,
      "outputs": [
        {
          "output_type": "stream",
          "name": "stdout",
          "text": [
            "Giải phương trình bậc 1: ax + bx + c = 0\n",
            "Nhập a: 1\n",
            "Nhập b: 2\n",
            "phuong trinh co nghiem x =  -2.0\n"
          ]
        }
      ]
    },
    {
      "cell_type": "markdown",
      "metadata": {
        "id": "L7N4qfhVWkPV"
      },
      "source": [
        "Bài 5: Hãy viết chương trình thực hiện các yêu cầu sau:\n",
        "- Xây dựng hàm giải phương trình bậc (ax2 + bx + c = 0), với hệ số a & b & c được truyền\n",
        "vào qua thông số của hàm.\n",
        "- Chương trình chính nhận các thông số a, b & c từ bàn phím\n",
        "- Chương trình chính gọi hàm giải phương trình bậc 2 nêu trên"
      ]
    },
    {
      "cell_type": "code",
      "metadata": {
        "colab": {
          "base_uri": "https://localhost:8080/"
        },
        "id": "CdHvQvNVYWST",
        "outputId": "bee4163d-fca6-49ec-8f41-3ebe92d83173"
      },
      "source": [
        "print(\"Giải phương trình bậc 2: ax^2 + bx + c = 0\")\n",
        "a = float(input(\"Nhập a: \"))\n",
        "b = float(input(\"Nhập b: \"))\n",
        "c = float(input(\"Nhập c: \"))\n",
        "def phuong_trinh_bac_2 (): \n",
        "  if a == 0:\n",
        "    if b == 0:\n",
        "        if c == 0:\n",
        "            print(\"Phương trình vô số nghiệm!\")\n",
        "        else:\n",
        "            print(\"Phương trình vô nghiệm!\")\n",
        "    else:\n",
        "        if c == 0:\n",
        "            print(\"Phương trình có 1 nghiệm x = 0\")\n",
        "        else:\n",
        "            print(\"Phương trình có 1 nghiệm x = \", -c / b)\n",
        "  else:\n",
        "    delta = b ** 2 - 4 * a * c\n",
        "    if delta < 0:\n",
        "        print(\"Phương trình vô nghiệm!\")\n",
        "    elif delta == 0:\n",
        "        print(\"Phương trình có 1 nghiệm x = \", -b / (2 * a))\n",
        "    else:\n",
        "        print(\"Phương trình có 2 nghiệm phân biệt!\")\n",
        "        print(\"x1 = \", float((-b - sqrt(delta)) / (2 * a)))\n",
        "        print(\"x2 = \", float((-b + sqrt(delta)) / (2 * a)))\n",
        "phuong_trinh_bac_2()"
      ],
      "execution_count": null,
      "outputs": [
        {
          "output_type": "stream",
          "name": "stdout",
          "text": [
            "Giải phương trình bậc 2: ax^2 + bx + c = 0\n",
            "Nhập a: 0\n",
            "Nhập b: 0\n",
            "Nhập c: 0\n",
            "Phương trình vô số nghiệm!\n"
          ]
        }
      ]
    },
    {
      "cell_type": "code",
      "metadata": {
        "id": "ZhRp8lXFWl6H"
      },
      "source": [
        "Bài 6: Hãy viết chương trình thực hiện các yêu cầu sau:\n",
        "- Cho người dùng lựa chọn giải phương trình bậc 1 hay bậc 2 bằng cách nhập số (1 hay 2)\n",
        "từ bàn phím\n",
        "- Nếu người dùng chọn giải phương trình bậc 1, thì thực hiện các bước như Bài 4\n",
        "- Nếu người dùng chọn giải phương trình bậc 2, thì thực hiện các bước như Bài 5"
      ],
      "execution_count": null,
      "outputs": []
    },
    {
      "cell_type": "code",
      "metadata": {
        "colab": {
          "base_uri": "https://localhost:8080/",
          "height": 132
        },
        "id": "LaLTTOUmW_r1",
        "outputId": "bfc92616-3cda-42c8-a1dc-e121f0a1a999"
      },
      "source": [
        "def giai_phuong_trinh_bac_1 ():\n",
        " if a == 0:\n",
        "   if b == 0 :\n",
        "    print (\"vo so nghiem\")\n",
        "   else :\n",
        "    print (\"vo nghiem\")\n",
        " else:\n",
        "   print (\"phuong trinh co nghiem x = \", -b/a)\n",
        "def phuong_trinh_bac_2 (): \n",
        "  if a == 0:\n",
        "    if b == 0:\n",
        "      if c == 0:\n",
        "        print(\"Phương trình vô số nghiệm!\")\n",
        "      else:\n",
        "        print(\"Phương trình vô nghiệm!\")\n",
        "    else:\n",
        "      if c == 0:\n",
        "        print(\"Phương trình có 1 nghiệm x = 0\")\n",
        "        else:\n",
        "            print(\"Phương trình có 1 nghiệm x = \", -c / b)\n",
        "    else:\n",
        "    delta = b ** 2 - 4 * a * c\n",
        "    if delta < 0:\n",
        "        print(\"Phương trình vô nghiệm!\")\n",
        "    elif delta == 0:\n",
        "        print(\"Phương trình có 1 nghiệm x = \", -b / (2 * a))\n",
        "    else:\n",
        "        print(\"Phương trình có 2 nghiệm phân biệt!\")\n",
        "        print(\"x1 = \", float((-b - sqrt(delta)) / (2 * a)))\n",
        "        print(\"x2 = \", float((-b + sqrt(delta)) / (2 * a)))\n",
        "lua_chon = int(input (\"nhap so 1 de giai phuong trinh bac 1 hoac nhap so 2 de gia phuong trinh bac 2:  \"))\n",
        "if lua_chon == 1 : \n",
        "  giai_phuong_trinh_bac_1()\n",
        "elif lua_chon == 2: \n",
        "  phuong_trinh_bac_2 ()\n"
      ],
      "execution_count": null,
      "outputs": [
        {
          "output_type": "error",
          "ename": "SyntaxError",
          "evalue": "ignored",
          "traceback": [
            "\u001b[0;36m  File \u001b[0;32m\"<ipython-input-1-0f55cb497f1b>\"\u001b[0;36m, line \u001b[0;32m19\u001b[0m\n\u001b[0;31m    else:\u001b[0m\n\u001b[0m       ^\u001b[0m\n\u001b[0;31mSyntaxError\u001b[0m\u001b[0;31m:\u001b[0m invalid syntax\n"
          ]
        }
      ]
    }
  ]
}