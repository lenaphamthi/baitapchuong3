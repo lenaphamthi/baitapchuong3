{
  "nbformat": 4,
  "nbformat_minor": 0,
  "metadata": {
    "colab": {
      "name": "baitap7/10.ipynb",
      "provenance": [],
      "authorship_tag": "ABX9TyORHGJj5Afuu5OPDZSLbnC0",
      "include_colab_link": true
    },
    "kernelspec": {
      "name": "python3",
      "display_name": "Python 3"
    },
    "language_info": {
      "name": "python"
    }
  },
  "cells": [
    {
      "cell_type": "markdown",
      "metadata": {
        "id": "view-in-github",
        "colab_type": "text"
      },
      "source": [
        "<a href=\"https://colab.research.google.com/github/lenaphamthi/baitapchuong3/blob/main/baitap7_10.ipynb\" target=\"_parent\"><img src=\"https://colab.research.google.com/assets/colab-badge.svg\" alt=\"Open In Colab\"/></a>"
      ]
    },
    {
      "cell_type": "code",
      "metadata": {
        "colab": {
          "base_uri": "https://localhost:8080/"
        },
        "id": "65Jbz6lYMHO4",
        "outputId": "9f72b298-53f4-4a0a-a30b-78b6957e8cca"
      },
      "source": [
        "i = 0\n",
        "while i <= 10 :\n",
        "  print (i)\n",
        "  i = i +1"
      ],
      "execution_count": null,
      "outputs": [
        {
          "output_type": "stream",
          "name": "stdout",
          "text": [
            "0\n",
            "1\n",
            "2\n",
            "3\n",
            "4\n",
            "5\n",
            "6\n",
            "7\n",
            "8\n",
            "9\n",
            "10\n"
          ]
        }
      ]
    },
    {
      "cell_type": "code",
      "metadata": {
        "colab": {
          "base_uri": "https://localhost:8080/"
        },
        "id": "0VT1u0mER-a4",
        "outputId": "b4dfea1e-f715-4643-c015-63dbbf23b639"
      },
      "source": [
        "rows = 5\n",
        "for i in range(0, rows + 1):\n",
        "    for j in range(rows - i, 0, -1):\n",
        "        print(j, end=' ')\n",
        "    print()"
      ],
      "execution_count": null,
      "outputs": [
        {
          "output_type": "stream",
          "name": "stdout",
          "text": [
            "5 4 3 2 1 \n",
            "4 3 2 1 \n",
            "3 2 1 \n",
            "2 1 \n",
            "1 \n",
            "\n"
          ]
        }
      ]
    },
    {
      "cell_type": "code",
      "metadata": {
        "colab": {
          "base_uri": "https://localhost:8080/"
        },
        "id": "IX5RcEBJSBr4",
        "outputId": "47486ccb-c8fa-42cc-c119-07ed59474abc"
      },
      "source": [
        "s = 0\n",
        "n = int(input(\"Enter number \"))\n",
        "for i in range(1, n + 1, 1):\n",
        "    s += i\n",
        "print(\"Sum is: \", s)"
      ],
      "execution_count": 66,
      "outputs": [
        {
          "output_type": "stream",
          "name": "stdout",
          "text": [
            "Enter number 15\n",
            "Sum is:  120\n"
          ]
        }
      ]
    },
    {
      "cell_type": "code",
      "metadata": {
        "colab": {
          "base_uri": "https://localhost:8080/"
        },
        "id": "FVahKUz2ZHF2",
        "outputId": "2e5c226d-0231-40a1-af7c-1f9911f0f681"
      },
      "source": [
        "n = 2\n",
        "for i in range(1, 11):\n",
        "    x = n * i\n",
        "    print(x)"
      ],
      "execution_count": 74,
      "outputs": [
        {
          "output_type": "stream",
          "name": "stdout",
          "text": [
            "2\n",
            "4\n",
            "6\n",
            "8\n",
            "10\n",
            "12\n",
            "14\n",
            "16\n",
            "18\n",
            "20\n"
          ]
        }
      ]
    },
    {
      "cell_type": "code",
      "metadata": {
        "colab": {
          "base_uri": "https://localhost:8080/"
        },
        "id": "oPYqQfg8ZH12",
        "outputId": "29f947a4-5fce-4e72-a85e-84a7b7c1023c"
      },
      "source": [
        "thislist = [\"apple\", \"banana\", \"cherry\"]\n",
        "for x in thislist:\n",
        "  print(x)"
      ],
      "execution_count": 68,
      "outputs": [
        {
          "output_type": "stream",
          "name": "stdout",
          "text": [
            "apple\n",
            "banana\n",
            "cherry\n"
          ]
        }
      ]
    },
    {
      "cell_type": "code",
      "metadata": {
        "colab": {
          "base_uri": "https://localhost:8080/"
        },
        "id": "gBjk3p95eCIt",
        "outputId": "66a557b3-e7b0-4352-c418-921ab4ae93e0"
      },
      "source": [
        "x = int(input(\"nhap so \"))\n",
        "print (\"total number of digits : \", len(str(x)))"
      ],
      "execution_count": 71,
      "outputs": [
        {
          "output_type": "stream",
          "name": "stdout",
          "text": [
            "nhap so 234\n",
            "total number of digits :  3\n"
          ]
        }
      ]
    },
    {
      "cell_type": "code",
      "metadata": {
        "colab": {
          "base_uri": "https://localhost:8080/"
        },
        "id": "NqakOPUyZg_G",
        "outputId": "4d246d63-fb55-4925-f30d-f92f3a1569a6"
      },
      "source": [
        "List = [\"b\", \"n\", 25, \"a\", 24];\n",
        "List.reverse();\n",
        "print(List);"
      ],
      "execution_count": 77,
      "outputs": [
        {
          "output_type": "stream",
          "name": "stdout",
          "text": [
            "[24, 'a', 25, 'n', 'b']\n"
          ]
        }
      ]
    },
    {
      "cell_type": "code",
      "metadata": {
        "colab": {
          "base_uri": "https://localhost:8080/"
        },
        "id": "c8wzF0V1Z5w-",
        "outputId": "e006ddb2-8a32-401c-fabd-d990ab41d55f"
      },
      "source": [
        "for num in range(-10, 0, 1):\n",
        "    print(num)"
      ],
      "execution_count": 64,
      "outputs": [
        {
          "output_type": "stream",
          "name": "stdout",
          "text": [
            "-10\n",
            "-9\n",
            "-8\n",
            "-7\n",
            "-6\n",
            "-5\n",
            "-4\n",
            "-3\n",
            "-2\n",
            "-1\n"
          ]
        }
      ]
    },
    {
      "cell_type": "code",
      "metadata": {
        "colab": {
          "base_uri": "https://localhost:8080/"
        },
        "id": "3N38CpbyaJa2",
        "outputId": "7153508b-6c5a-4e24-f168-58d44be5b8b1"
      },
      "source": [
        "start = 25\n",
        "end = 50\n",
        "print (start, \"and\", end, \"are:\")\n",
        "for num in range(start, end + 1):\n",
        "  if num > 1:\n",
        "        for i in range(2, num):\n",
        "            if (num % i) == 0:\n",
        "                break\n",
        "        else:\n",
        "            print(num)"
      ],
      "execution_count": 108,
      "outputs": [
        {
          "output_type": "stream",
          "name": "stdout",
          "text": [
            "25 and 50 are:\n",
            "29\n",
            "31\n",
            "37\n",
            "41\n",
            "43\n",
            "47\n"
          ]
        }
      ]
    },
    {
      "cell_type": "code",
      "metadata": {
        "colab": {
          "base_uri": "https://localhost:8080/"
        },
        "id": "M8BIOiSVc4Y1",
        "outputId": "4efc6c85-b1fe-4e7e-c2fd-386aa6a934b5"
      },
      "source": [
        "num1, num2 = 0, 1\n",
        "print(\"Fibonacci sequence:\")\n",
        "for i in range(10):\n",
        "    print(num1, end=\"  \")\n",
        "    res = num1 + num2\n",
        "    num1 = num2\n",
        "    num2 = res"
      ],
      "execution_count": 107,
      "outputs": [
        {
          "output_type": "stream",
          "name": "stdout",
          "text": [
            "Fibonacci sequence:\n",
            "0  1  1  2  3  5  8  13  21  34  "
          ]
        }
      ]
    },
    {
      "cell_type": "code",
      "metadata": {
        "colab": {
          "base_uri": "https://localhost:8080/"
        },
        "id": "FToDrOfpdDWm",
        "outputId": "3d6a5330-2f33-471a-c8ca-0c829fa7d88d"
      },
      "source": [
        "x = 3\n",
        "factorial = 1\n",
        "if x < 0:\n",
        "    print(\"Giai thừa không tồn tại\")\n",
        "elif x == 0:\n",
        "    print(\"Giai thừa của 0 là 1\")\n",
        "else:\n",
        "    for i in range(1, x + 1):\n",
        "        factorial = factorial * i\n",
        "    print(\"The factorial of\", x, \"is\", factorial)"
      ],
      "execution_count": 102,
      "outputs": [
        {
          "output_type": "stream",
          "name": "stdout",
          "text": [
            "The factorial of 3 is 6\n"
          ]
        }
      ]
    },
    {
      "cell_type": "code",
      "metadata": {
        "colab": {
          "base_uri": "https://localhost:8080/"
        },
        "id": "X0WCCT69dHB3",
        "outputId": "cc15ed93-ebdd-4426-b7b4-97cf708690a2"
      },
      "source": [
        "num = 76542\n",
        "reverse = 0\n",
        "print(\"Given Number \", num)\n",
        "while num > 0:\n",
        "    reminder = num % 10\n",
        "    reverse = (reverse * 10) + reminder\n",
        "    num = num // 10\n",
        "print(\"Revere Number \", reverse)"
      ],
      "execution_count": 105,
      "outputs": [
        {
          "output_type": "stream",
          "name": "stdout",
          "text": [
            "Given Number  76542\n",
            "Revere Number  24567\n"
          ]
        }
      ]
    },
    {
      "cell_type": "code",
      "metadata": {
        "colab": {
          "base_uri": "https://localhost:8080/"
        },
        "id": "dDLB4wRZdKhn",
        "outputId": "8a420616-37db-4caf-9469-d2270d00ef27"
      },
      "source": [
        "list = [1, 2, 3, 4, 5, 6, 7, 8, 9, 10]\n",
        "for i in list[1::2]:\n",
        "    print(i, end=\" \")\n",
        " "
      ],
      "execution_count": 103,
      "outputs": [
        {
          "output_type": "stream",
          "name": "stdout",
          "text": [
            "2 4 6 8 10 "
          ]
        }
      ]
    },
    {
      "cell_type": "code",
      "metadata": {
        "colab": {
          "base_uri": "https://localhost:8080/"
        },
        "id": "15Oc3J81dLr3",
        "outputId": "04d49d39-eb27-42f7-c39e-edc8a7755877"
      },
      "source": [
        "x = 6\n",
        "for i in range(1, x + 1):\n",
        "    print(\" so:\", i, \" khoi lap phuong la\", (i * i * i))"
      ],
      "execution_count": 104,
      "outputs": [
        {
          "output_type": "stream",
          "name": "stdout",
          "text": [
            " so: 1  khoi lap phuong la 1\n",
            " so: 2  khoi lap phuong la 8\n",
            " so: 3  khoi lap phuong la 27\n",
            " so: 4  khoi lap phuong la 64\n",
            " so: 5  khoi lap phuong la 125\n",
            " so: 6  khoi lap phuong la 216\n"
          ]
        }
      ]
    }
  ]
}