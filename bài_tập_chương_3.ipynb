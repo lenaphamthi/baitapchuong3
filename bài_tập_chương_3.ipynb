{
  "nbformat": 4,
  "nbformat_minor": 0,
  "metadata": {
    "colab": {
      "name": "bài tập chương 3.ipynb",
      "provenance": [],
      "authorship_tag": "ABX9TyP2GZyHmdhKAW5VHuPGizUu",
      "include_colab_link": true
    },
    "kernelspec": {
      "name": "python3",
      "display_name": "Python 3"
    },
    "language_info": {
      "name": "python"
    }
  },
  "cells": [
    {
      "cell_type": "markdown",
      "metadata": {
        "id": "view-in-github",
        "colab_type": "text"
      },
      "source": [
        "<a href=\"https://colab.research.google.com/github/lenaphamthi/baitapchuong3/blob/main/b%C3%A0i_t%E1%BA%ADp_ch%C6%B0%C6%A1ng_3.ipynb\" target=\"_parent\"><img src=\"https://colab.research.google.com/assets/colab-badge.svg\" alt=\"Open In Colab\"/></a>"
      ]
    },
    {
      "cell_type": "code",
      "metadata": {
        "colab": {
          "base_uri": "https://localhost:8080/"
        },
        "id": "7KVTG1hPRlpx",
        "outputId": "e36d41d5-3f2c-4601-f9fa-3567bf17babf"
      },
      "source": [
        "#sum\n",
        "list = [1,2,3,4,5]\n",
        "print (sum(list))"
      ],
      "execution_count": 3,
      "outputs": [
        {
          "output_type": "stream",
          "name": "stdout",
          "text": [
            "15\n"
          ]
        }
      ]
    },
    {
      "cell_type": "code",
      "metadata": {
        "colab": {
          "base_uri": "https://localhost:8080/"
        },
        "id": "VbPA633MTKPh",
        "outputId": "c279fcd4-fa38-47ea-c7e7-789ef3ca7ac8"
      },
      "source": [
        "import numpy\n",
        "list1 = [1, 2, 3]\n",
        "list2 = [3, 2, 4]\n",
        "x = numpy.prod(list1)\n",
        "y = numpy.prod(list2)\n",
        "print(x)\n",
        "print(y)"
      ],
      "execution_count": 66,
      "outputs": [
        {
          "output_type": "stream",
          "name": "stdout",
          "text": [
            "6\n",
            "24\n"
          ]
        }
      ]
    },
    {
      "cell_type": "code",
      "metadata": {
        "colab": {
          "base_uri": "https://localhost:8080/"
        },
        "id": "36Ti7OpDVDA2",
        "outputId": "5356dc0c-ca3b-4e70-8c49-ed0d28310d78"
      },
      "source": [
        "list =[4,5,6,22]\n",
        "print (\"so lon nhat la \", max(list))\n",
        "print (\"so be nhat la \", min(list))"
      ],
      "execution_count": 23,
      "outputs": [
        {
          "output_type": "stream",
          "name": "stdout",
          "text": [
            "so lon nhat la  22\n",
            "so be nhat la  4\n"
          ]
        }
      ]
    },
    {
      "cell_type": "code",
      "metadata": {
        "colab": {
          "base_uri": "https://localhost:8080/"
        },
        "id": "tYXLbCDSWY2n",
        "outputId": "34d8b667-4920-4ad0-a7a5-0f6a9c189c11"
      },
      "source": [
        "List = [21, 10, 18, 9]\n",
        "List.sort(reverse=False)\n",
        "print(\"theo thu tu tang dan\", List)\n",
        "List.sort(reverse=True)\n",
        "print(\"theo thu tu giam dan\", List)\n",
        "\n"
      ],
      "execution_count": 56,
      "outputs": [
        {
          "output_type": "stream",
          "name": "stdout",
          "text": [
            "theo thu tu tang dan [9, 10, 18, 21]\n",
            "theo thu tu giam dan [21, 18, 10, 9]\n"
          ]
        }
      ]
    },
    {
      "cell_type": "code",
      "metadata": {
        "colab": {
          "base_uri": "https://localhost:8080/"
        },
        "id": "kjdedYmQWiqO",
        "outputId": "263adf36-3985-421a-a06f-aa75d469339c"
      },
      "source": [
        "list = [7,8,5,3,\"K2\"]\n",
        "print (len(list))"
      ],
      "execution_count": 38,
      "outputs": [
        {
          "output_type": "stream",
          "name": "stdout",
          "text": [
            "5\n"
          ]
        }
      ]
    },
    {
      "cell_type": "code",
      "metadata": {
        "colab": {
          "base_uri": "https://localhost:8080/"
        },
        "id": "zn0YWVowX39l",
        "outputId": "6e6e73b4-9465-48d1-f6c0-a4292c2d6c52"
      },
      "source": [
        "import random\n",
        "number_list = [10, 11, 12, 41, 52]\n",
        "print(random.choice(number_list))"
      ],
      "execution_count": 43,
      "outputs": [
        {
          "output_type": "stream",
          "name": "stdout",
          "text": [
            "12\n"
          ]
        }
      ]
    },
    {
      "cell_type": "code",
      "metadata": {
        "colab": {
          "base_uri": "https://localhost:8080/"
        },
        "id": "k8F02urMYMUH",
        "outputId": "d1eb8362-6f00-40cc-bb01-4a914512a5b0"
      },
      "source": [
        "list1 = [\"a\", \"b\" , \"c\"]\n",
        "list2 = [1, 2, 3]\n",
        "list3 = list1 + list2\n",
        "print(list3)"
      ],
      "execution_count": 44,
      "outputs": [
        {
          "output_type": "stream",
          "name": "stdout",
          "text": [
            "['a', 'b', 'c', 1, 2, 3]\n"
          ]
        }
      ]
    }
  ]
}