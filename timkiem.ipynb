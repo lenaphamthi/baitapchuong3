{
  "nbformat": 4,
  "nbformat_minor": 0,
  "metadata": {
    "colab": {
      "name": "timkiem.ipynb",
      "provenance": [],
      "authorship_tag": "ABX9TyPsInEwf0F18EqWAH7wzKwn",
      "include_colab_link": true
    },
    "kernelspec": {
      "name": "python3",
      "display_name": "Python 3"
    },
    "language_info": {
      "name": "python"
    }
  },
  "cells": [
    {
      "cell_type": "markdown",
      "metadata": {
        "id": "view-in-github",
        "colab_type": "text"
      },
      "source": [
        "<a href=\"https://colab.research.google.com/github/lenaphamthi/baitapchuong3/blob/main/timkiem.ipynb\" target=\"_parent\"><img src=\"https://colab.research.google.com/assets/colab-badge.svg\" alt=\"Open In Colab\"/></a>"
      ]
    },
    {
      "cell_type": "markdown",
      "metadata": {
        "id": "cxbMFgfRZ7_N"
      },
      "source": [
        "bai 1"
      ]
    },
    {
      "cell_type": "code",
      "metadata": {
        "colab": {
          "base_uri": "https://localhost:8080/"
        },
        "id": "4rO0dPIgZLf-",
        "outputId": "716f2921-49e6-430f-9c1d-4fd3d30d0722"
      },
      "source": [
        "import random\n",
        "\n",
        "n=int(input(\"so phan tu cua danh sach : \"))\n",
        "a=int(input(\"bat dau: \"))\n",
        "b=int(input(\"ket thuc: \"))\n",
        "l=[]\n",
        "for i in range(n):\n",
        "    l.append(random.randint(a,b))\n",
        "print(\"danh sach: \",l)\n",
        "x = int(input(\"gia tri can tim: \"))\n",
        "for i in range(len(l)):\n",
        "    if l[i] == x:\n",
        "        print(\"vi tri cua x la: \",i)\n",
        "        break\n",
        "else:\n",
        "    print(\"khong tim thay\")"
      ],
      "execution_count": 2,
      "outputs": [
        {
          "output_type": "stream",
          "name": "stdout",
          "text": [
            "so phan tu cua danh sach : 100\n",
            "bat dau: -5\n",
            "ket thuc: 7\n",
            "danh sach:  [-4, 5, 2, 1, 7, -4, 2, -1, 0, 7, 3, 2, -5, 0, -2, 2, 2, -3, 2, 7, -1, 1, 0, 6, 4, 5, 2, 4, 3, 2, 1, -2, 0, -2, -4, 2, 6, -4, 5, -4, 5, -5, -4, -3, 5, -1, -5, -2, -1, 2, 0, -3, 0, -2, 5, -3, 7, -1, -3, 5, -4, 1, 5, 2, 3, -1, 5, 3, -2, 0, 5, 1, -5, -1, 4, -4, -1, -3, 2, 5, -5, 3, -4, -2, -4, 7, -1, 7, 4, 7, -4, -4, 5, 4, -2, 1, 6, 7, -3, -3]\n",
            "gia tri can tim: -4\n",
            "vi tri cua x la:  0\n"
          ]
        }
      ]
    },
    {
      "cell_type": "markdown",
      "metadata": {
        "id": "jV5NV8zbZNEz"
      },
      "source": [
        "bai 22"
      ]
    },
    {
      "cell_type": "code",
      "metadata": {
        "colab": {
          "base_uri": "https://localhost:8080/"
        },
        "id": "MM3wQEM2ZYoM",
        "outputId": "79f58e6b-6f82-47d8-f368-7b5af04ef195"
      },
      "source": [
        "import random\n",
        "n=int(input(\"so phan tu cua danh sach : \"))\n",
        "a=int(input(\"bat dau: \"))\n",
        "b=int(input(\"ket thuc: \"))\n",
        "l=[]\n",
        "for i in range(n):\n",
        "    l.append(random.randint(a,b))\n",
        "print(\"danh sach: \",l)\n",
        "x = int(input(\"gia tri can tim: \"))\n",
        "count = 0\n",
        "for i in range(len(l)):\n",
        "    if l[i] == x:\n",
        "        print(\"vi tri cua x la: \",i)\n",
        "        print(\"so lan lap: \",count)\n",
        "        break\n",
        "    count += 1\n",
        "else:\n",
        "    print(\"khong tim thay x\")"
      ],
      "execution_count": 4,
      "outputs": [
        {
          "output_type": "stream",
          "name": "stdout",
          "text": [
            "so phan tu cua danh sach : 100\n",
            "bat dau: -5\n",
            "ket thuc: 7\n",
            "danh sach:  [-3, 2, 0, -3, -4, 2, 5, -4, 5, -5, 6, -2, -4, 7, 4, -1, -2, 0, 2, 5, 3, 3, -2, -2, -2, 2, 5, 4, -5, 1, 0, 2, -1, 5, 3, 4, 2, 4, 4, -4, -2, 4, -4, -1, 4, 3, -1, 5, -4, 2, -3, -4, 3, -2, -4, 2, -3, 6, 0, 5, 3, 2, 0, 4, 1, -3, 0, 3, -2, 0, -1, -2, 6, -4, 5, -4, 0, -4, -2, 6, -4, -2, -2, 5, 6, 6, -1, -3, 3, -3, 4, 1, -2, -5, 4, 2, -1, 1, -1, 3]\n",
            "gia tri can tim: 2\n",
            "vi tri cua x la:  1\n",
            "so lan lap:  1\n"
          ]
        }
      ]
    },
    {
      "cell_type": "markdown",
      "metadata": {
        "id": "apj5-3uLbAGM"
      },
      "source": [
        "bai 3"
      ]
    },
    {
      "cell_type": "code",
      "metadata": {
        "colab": {
          "base_uri": "https://localhost:8080/"
        },
        "id": "9dWt6v9RbEDk",
        "outputId": "9754eb3a-5eaf-49bc-ceb5-db6b88a9ca2b"
      },
      "source": [
        "import random\n",
        "n=int(input(\"so phan tu cua danh sach : \"))\n",
        "a=int(input(\"bat dau: \"))\n",
        "b=int(input(\"ket thuc: \"))\n",
        "l=[]\n",
        "for i in range(n):\n",
        "    l.append(random.randint(a,b))\n",
        "print(\"danh sach: \",l)\n",
        "x = int(input(\"gia tri can tim: \"))\n",
        "for i in range(len(l)):\n",
        "    for j in range(i + 1, len(l)):\n",
        "        if l[i] > l[j]:\n",
        "            l[i], l[j] = l[j], l[i]\n",
        "print(\"danh sap sap xep theo chieu tang dan\",l)\n",
        "count = 0\n",
        "for i in range(len(l)):\n",
        "    if l[i] == x:\n",
        "        print(\"vi tri cua x\",i)\n",
        "        print(\"so lan lap\",count)\n",
        "        break\n",
        "    count += 1\n",
        "else:\n",
        "    print(\"khong tim thay x\")"
      ],
      "execution_count": 5,
      "outputs": [
        {
          "output_type": "stream",
          "name": "stdout",
          "text": [
            "so phan tu cua danh sach : 100\n",
            "bat dau: -5\n",
            "ket thuc: 7\n",
            "danh sach:  [-5, 0, -4, -5, -4, 7, 3, 4, 0, -3, -4, -1, -1, -1, 3, -5, -2, 1, -4, -5, -1, 3, 7, -3, 6, 4, 6, 0, 5, 7, -1, -4, 5, -3, 3, -5, 2, -2, 7, 4, 6, 2, -1, -3, -5, 3, 1, 7, 5, -4, -3, -4, 2, 3, 0, 5, 1, 7, 2, -4, 4, -2, 6, -4, -2, 7, 5, 4, 3, 0, -5, -4, 2, 5, -1, -2, 2, -3, 0, 1, -5, 1, 3, 2, 3, 2, -2, -4, 5, -5, -2, -1, 2, 7, 6, -3, 4, -4, 1, 6]\n",
            "gia tri can tim: 0\n",
            "danh sap sap xep theo chieu tang dan [-5, -5, -5, -5, -5, -5, -5, -5, -5, -4, -4, -4, -4, -4, -4, -4, -4, -4, -4, -4, -4, -3, -3, -3, -3, -3, -3, -3, -2, -2, -2, -2, -2, -2, -2, -1, -1, -1, -1, -1, -1, -1, -1, 0, 0, 0, 0, 0, 0, 1, 1, 1, 1, 1, 1, 2, 2, 2, 2, 2, 2, 2, 2, 2, 3, 3, 3, 3, 3, 3, 3, 3, 3, 4, 4, 4, 4, 4, 4, 5, 5, 5, 5, 5, 5, 5, 6, 6, 6, 6, 6, 6, 7, 7, 7, 7, 7, 7, 7, 7]\n",
            "vi tri cua x 43\n",
            "so lan lap 43\n"
          ]
        }
      ]
    },
    {
      "cell_type": "markdown",
      "metadata": {
        "id": "6gD8MHOCbp_t"
      },
      "source": [
        "bai 4"
      ]
    },
    {
      "cell_type": "code",
      "metadata": {
        "colab": {
          "base_uri": "https://localhost:8080/"
        },
        "id": "hRVSU2Jrbs8L",
        "outputId": "fe6e86bc-1e56-4ab1-ce96-85c87b3c28d3"
      },
      "source": [
        "import random\n",
        "n=int(input(\"so phan tu cua danh sach: \"))\n",
        "a=int(input(\"bat dau: \"))\n",
        "b=int(input(\"ket thuc: \"))\n",
        "l=[]\n",
        "for i in range(n):\n",
        "    l.append(random.randint(a,b))\n",
        "print(\"danh sach\",l)\n",
        "x = int(input(\"gia tri can tim: \"))\n",
        "for i in range(len(l)):\n",
        "    for j in range(i + 1, len(l)):\n",
        "        if l[i] > l[j]:\n",
        "            l[i], l[j] = l[j], l[i]\n",
        "print(\"danh sach sau khi sap xep tang dan\",l)\n",
        "l1=[]\n",
        "l2=[]\n",
        "count = 0\n",
        "for i in range(len(l)):\n",
        "    if l[i] == x:\n",
        "        l1.append(i)\n",
        "        l2.append(count)\n",
        "    count += 1\n",
        "if (len(l1) > 0):\n",
        "    print(\"vi tri cua x: \",l1)\n",
        "    print(\"so lan lap: \", l2)\n",
        "else:\n",
        "    print(\"khong tim thay x\")"
      ],
      "execution_count": 7,
      "outputs": [
        {
          "output_type": "stream",
          "name": "stdout",
          "text": [
            "so phan tu cua danh sach: 100\n",
            "bat dau: -5\n",
            "ket thuc: 7\n",
            "danh sach [3, 2, 1, 7, -1, 4, -2, 1, 7, -2, -5, -5, -2, 2, 6, 1, -5, 4, -2, 3, 1, 0, 6, -3, -4, -4, -3, 2, 4, 1, -5, 4, 6, -2, -5, 0, -5, -3, -4, 6, -2, 6, -5, 2, -3, 5, 2, 5, 4, 1, 2, 5, -3, 6, 4, 6, 0, 4, -2, 0, -5, 2, 4, -4, 7, 6, 4, -3, 4, 2, -3, -4, 4, -1, 1, -4, -5, 5, -1, -3, -5, 2, 1, 5, 7, -4, 5, 4, 2, 4, 5, 4, -4, -3, 0, 2, 3, 7, 2, -1]\n",
            "gia tri can tim: 2\n",
            "danh sach sau khi sap xep tang dan [-5, -5, -5, -5, -5, -5, -5, -5, -5, -5, -4, -4, -4, -4, -4, -4, -4, -4, -3, -3, -3, -3, -3, -3, -3, -3, -3, -2, -2, -2, -2, -2, -2, -2, -1, -1, -1, -1, 0, 0, 0, 0, 0, 1, 1, 1, 1, 1, 1, 1, 1, 2, 2, 2, 2, 2, 2, 2, 2, 2, 2, 2, 2, 3, 3, 3, 4, 4, 4, 4, 4, 4, 4, 4, 4, 4, 4, 4, 4, 4, 5, 5, 5, 5, 5, 5, 5, 6, 6, 6, 6, 6, 6, 6, 6, 7, 7, 7, 7, 7]\n",
            "vi tri cua x:  [51, 52, 53, 54, 55, 56, 57, 58, 59, 60, 61, 62]\n",
            "so lan lap:  [51, 52, 53, 54, 55, 56, 57, 58, 59, 60, 61, 62]\n"
          ]
        }
      ]
    }
  ]
}