{
  "nbformat": 4,
  "nbformat_minor": 0,
  "metadata": {
    "colab": {
      "name": "sap_xep.ipynb",
      "provenance": [],
      "collapsed_sections": [],
      "authorship_tag": "ABX9TyPT9hOl6JtP3lq6A/bfG+q8",
      "include_colab_link": true
    },
    "kernelspec": {
      "name": "python3",
      "display_name": "Python 3"
    },
    "language_info": {
      "name": "python"
    }
  },
  "cells": [
    {
      "cell_type": "markdown",
      "metadata": {
        "id": "view-in-github",
        "colab_type": "text"
      },
      "source": [
        "<a href=\"https://colab.research.google.com/github/lenaphamthi/baitapchuong3/blob/main/sap_xep.ipynb\" target=\"_parent\"><img src=\"https://colab.research.google.com/assets/colab-badge.svg\" alt=\"Open In Colab\"/></a>"
      ]
    },
    {
      "cell_type": "markdown",
      "metadata": {
        "id": "kuHIJo5lzxwA"
      },
      "source": [
        "bai 1"
      ]
    },
    {
      "cell_type": "code",
      "metadata": {
        "colab": {
          "base_uri": "https://localhost:8080/"
        },
        "id": "Un06lkugzx9a",
        "outputId": "e7f96bbd-d65e-4674-ddf2-8e180909e3e2"
      },
      "source": [
        "a = [10,9,8,7,6,5,4,3,2,1]\n",
        "for i in range(len(a)):\n",
        "  for j in range(i+1, len(a)):\n",
        "    if a[i] > a[j]:\n",
        "      a[i], a[j] = a[j], a[i]\n",
        "\n",
        "print(\"Ket qua sap xep theo chieu tang dan\", a)"
      ],
      "execution_count": null,
      "outputs": [
        {
          "output_type": "stream",
          "name": "stdout",
          "text": [
            "Ket qua sap xep theo chieu tang dan [1, 2, 3, 4, 5, 6, 7, 8, 9, 10]\n"
          ]
        }
      ]
    },
    {
      "cell_type": "markdown",
      "metadata": {
        "id": "xEwu922u0sFt"
      },
      "source": [
        "bai 2"
      ]
    },
    {
      "cell_type": "code",
      "metadata": {
        "colab": {
          "base_uri": "https://localhost:8080/"
        },
        "id": "-eTHZKha0s0S",
        "outputId": "98b976e8-958e-4462-e805-228a8a9b9eb0"
      },
      "source": [
        "def nhap_danh_sach_so_nguyen(n):\n",
        "    l = []\n",
        "    for i in range(n):\n",
        "        l.append(int(input(\"phan tu: \")))\n",
        "    return l\n",
        "def sap_xep_danh_sach(x):\n",
        "    for i in range(len(x)):\n",
        "        for j in range(i+1,len(x)):\n",
        "            if x[i] > x[j]:\n",
        "                x[i], x[j] = x[j], x[i]\n",
        "    return(x)\n",
        "def main():\n",
        "    n = int(input(\"so phan tu cua danh sach: \"))\n",
        "    x = nhap_danh_sach_so_nguyen(n)\n",
        "    print('danh sach sap xep theo chieu tang dan:',sap_xep_danh_sach(x))\n",
        "if __name__ =='__main__':\n",
        "    main()"
      ],
      "execution_count": null,
      "outputs": [
        {
          "output_type": "stream",
          "name": "stdout",
          "text": [
            "so phan tu cua danh sach: 4\n",
            "phan tu: 2\n",
            "phan tu: 4\n",
            "phan tu: 1\n",
            "phan tu: 3\n",
            "danh sach sap xep theo chieu tang dan: [1, 2, 3, 4]\n"
          ]
        }
      ]
    },
    {
      "cell_type": "markdown",
      "metadata": {
        "id": "FvuZ1aZO2uAB"
      },
      "source": [
        "bai 3"
      ]
    },
    {
      "cell_type": "code",
      "metadata": {
        "colab": {
          "base_uri": "https://localhost:8080/"
        },
        "id": "XPF2E-WR2uxw",
        "outputId": "740fbdcb-6a38-4358-bdf1-0158efcd828f"
      },
      "source": [
        "def nhap_danh_sach():\n",
        "    list2=[]\n",
        "    while True:\n",
        "        n = float(input(\"nhap phan tu so thuc: \"))\n",
        "        list2.append(n)\n",
        "        print(\"ban co muon tiep tuc khong?(yes/no)\")\n",
        "        lua_chon = input(\"yes/no: \")\n",
        "        if (lua_chon == \"No\") or (lua_chon == \"no\"):\n",
        "            return list2\n",
        "            return False\n",
        "def sap_xep_danh_sach(list2):\n",
        "    for i in range(len(list2)):\n",
        "        for j in range(i + 1, len(list2)):\n",
        "            if list2[i] < list2[j]:\n",
        "                list2[i], list2[j] = list2[j], list2[i]\n",
        "    return list2\n",
        "def main():\n",
        "    list2 = nhap_danh_sach()\n",
        "    print(\"danh sach cac so thuc tren theo chieu giam dan: \",sap_xep_danh_sach(list2))\n",
        "if __name__==\"__main__\":\n",
        "    main()\n"
      ],
      "execution_count": null,
      "outputs": [
        {
          "output_type": "stream",
          "name": "stdout",
          "text": [
            "nhap phan tu so thuc: 5\n",
            "ban co muon tiep tuc khong?(yes/no)\n",
            "yes/no: yes\n",
            "nhap phan tu so thuc: 1\n",
            "ban co muon tiep tuc khong?(yes/no)\n",
            "yes/no: yes\n",
            "nhap phan tu so thuc: 7\n",
            "ban co muon tiep tuc khong?(yes/no)\n",
            "yes/no: no\n",
            "danh sach cac so thuc tren theo chieu giam dan:  [7.0, 5.0, 1.0]\n"
          ]
        }
      ]
    },
    {
      "cell_type": "markdown",
      "metadata": {
        "id": "cj7qBTM9X-gq"
      },
      "source": [
        "bai 4"
      ]
    },
    {
      "cell_type": "code",
      "metadata": {
        "colab": {
          "base_uri": "https://localhost:8080/"
        },
        "id": "mcEkBAybaO9Y",
        "outputId": "29cdbc0b-a1d7-45fa-b229-735d018351ec"
      },
      "source": [
        "def nhap_danh_sach_so_thuc():\n",
        "    l3 = []\n",
        "    while True:\n",
        "        a =float(input(\"nhap phan tu so thuc: \"))\n",
        "        l3.append(a)\n",
        "        print(\"ban co muon tiep tuc nhap khong?: \")\n",
        "        lua_chon = input(\"Y/N: \")\n",
        "        if(lua_chon == \"N\") or (lua_chon == \"n\") :\n",
        "            return l3\n",
        "            return False\n",
        "def sap_xep_danh_sach_so_thuc(x):\n",
        "    for i in range(len(x)):\n",
        "        for j in range(i + 1, len(x)):\n",
        "            if x[i] < x[j]:\n",
        "                x[i], x[j] = x[j], x[i]\n",
        "    return x\n",
        "def main():\n",
        "    x = nhap_danh_sach_so_thuc()\n",
        "    print('danh sách sau khi sắp xếp:',sap_xep_danh_sach_so_thuc(x))\n",
        "if __name__==\"__main__\":\n",
        "    main()"
      ],
      "execution_count": null,
      "outputs": [
        {
          "output_type": "stream",
          "name": "stdout",
          "text": [
            "nhap phan tu so thuc: 3\n",
            "ban co muon tiep tuc nhap khong?: \n",
            "Y/N: Y\n",
            "nhap phan tu so thuc: 7\n",
            "ban co muon tiep tuc nhap khong?: \n",
            "Y/N: Y\n",
            "nhap phan tu so thuc: 1\n",
            "ban co muon tiep tuc nhap khong?: \n",
            "Y/N: N\n",
            "danh sách sau khi sắp xếp: [7.0, 3.0, 1.0]\n"
          ]
        }
      ]
    },
    {
      "cell_type": "markdown",
      "metadata": {
        "id": "iRTq8G7BCQ6-"
      },
      "source": [
        "bai 5"
      ]
    },
    {
      "cell_type": "code",
      "metadata": {
        "colab": {
          "base_uri": "https://localhost:8080/"
        },
        "id": "lRAUijhSnDQm",
        "outputId": "eacba840-2e06-4f85-a600-638b58da7e4a"
      },
      "source": [
        "import random\n",
        "\n",
        "max_value = int(input(\"gioi ham random: \"))\n",
        "a = int(input(\"nhap so phan tu: \"))\n",
        "l4 = []\n",
        "for i in range(a):\n",
        "  l4.append(random.randint(0,max_value))\n",
        "print(\"danh sach khi chua sap xep\",l4)\n",
        "print(\"(1) de sap xep danh sach tang dan\")\n",
        "print(\"(2) de sap xep danh sach giam dan\")\n",
        "lua_chon = int(input(\"chon 1 hay 2?: \"))\n",
        "if lua_chon == 1:\n",
        "  for i in range(len(l4)):\n",
        "    for j in range(i+1, len(l4)):\n",
        "      if l4[i] > l4[j]:\n",
        "        l4[i],l4[j] = l4[j], l4[i]\n",
        "  print(\"danh sach sap xep tang dan\",l4)\n",
        "if lua_chon == 2:\n",
        "  for i in range(len(l4)):\n",
        "    for j in range(i+1, len(l4)):\n",
        "      if l4[i] < l4[j]:\n",
        "        l4[i],l4[j] = l4[j], l4[i]\n",
        "  print(\"danh sach sap xep giam dan\",l4)\n",
        "\n"
      ],
      "execution_count": 19,
      "outputs": [
        {
          "output_type": "stream",
          "name": "stdout",
          "text": [
            "gioi ham random: 10\n",
            "nhap so phan tu: 5\n",
            "danh sach khi chua sap xep [9, 2, 8, 8, 6]\n",
            "(1) de sap xep danh sach tang dan\n",
            "(2) de sap xep danh sach giam dan\n",
            "chon 1 hay 2?: 1\n",
            "danh sach sap xep tang dan [2, 6, 8, 8, 9]\n"
          ]
        }
      ]
    },
    {
      "cell_type": "markdown",
      "metadata": {
        "id": "oFWA5Gv4XvU1"
      },
      "source": [
        "bai 6"
      ]
    },
    {
      "cell_type": "code",
      "metadata": {
        "colab": {
          "base_uri": "https://localhost:8080/"
        },
        "id": "inlRwZnXXv88",
        "outputId": "4d1c4c18-1393-46cf-af91-cf6c0e1e5464"
      },
      "source": [
        "def sinh_ngau_nhien_danh_sach_so_nguyen():\n",
        "    import random\n",
        "    l5 = []\n",
        "    for i in range(n):\n",
        "        l5.append(random.randint(0, max_value))\n",
        "    return l5\n",
        "def sap_xep_giam_dan(x):\n",
        "    for i in range(len(x)):\n",
        "        for j in range(i + 1, len(x)):\n",
        "            if x[i] < x[j]:\n",
        "                x[i], x[j] = x[j], x[i]\n",
        "    return x\n",
        "def sap_xep_tang_dan(x):\n",
        "    for i in range(len(x)):\n",
        "        for j in range(i + 1, len(x)):\n",
        "            if x[i] > x[j]:\n",
        "                x[i], x[j] = x[j], x[i]\n",
        "    return x\n",
        "def main():\n",
        "    a =int(input(\"nhap so phan tu: \"))\n",
        "    max_value=int(input(\"gian han random: \"))\n",
        "    x=sinh_ngau_nhien_danh_sach_so_nguyen()\n",
        "    print(\"danh sach duoc sap xep theo chieu tang dan: \",sap_xep_tang_dan(x))\n",
        "    print(\"danh sach duoc sap xep theo chieu giam dan: \", sap_xep_giam_dan(x))\n",
        "if __name__=='__main__':\n",
        "    main()"
      ],
      "execution_count": 20,
      "outputs": [
        {
          "output_type": "stream",
          "name": "stdout",
          "text": [
            "nhap so phan tu: 5\n",
            "gian han random: 10\n",
            "danh sach duoc sap xep theo chieu tang dan:  [3, 7, 8, 10]\n",
            "danh sach duoc sap xep theo chieu giam dan:  [10, 8, 7, 3]\n"
          ]
        }
      ]
    }
  ]
}