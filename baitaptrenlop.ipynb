{
  "nbformat": 4,
  "nbformat_minor": 0,
  "metadata": {
    "colab": {
      "name": "baitaptrenlop.ipynb",
      "provenance": [],
      "authorship_tag": "ABX9TyMrF+iTOe+dCpyj3KN5b8KI",
      "include_colab_link": true
    },
    "kernelspec": {
      "name": "python3",
      "display_name": "Python 3"
    },
    "language_info": {
      "name": "python"
    }
  },
  "cells": [
    {
      "cell_type": "markdown",
      "metadata": {
        "id": "view-in-github",
        "colab_type": "text"
      },
      "source": [
        "<a href=\"https://colab.research.google.com/github/lenaphamthi/baitapchuong3/blob/main/baitaptrenlop.ipynb\" target=\"_parent\"><img src=\"https://colab.research.google.com/assets/colab-badge.svg\" alt=\"Open In Colab\"/></a>"
      ]
    },
    {
      "cell_type": "code",
      "metadata": {
        "colab": {
          "base_uri": "https://localhost:8080/"
        },
        "id": "lGF5M0EglbDB",
        "outputId": "d8ba652b-9d02-4bc4-8498-36755fc64418"
      },
      "source": [
        "x = float(input(\"nhap diem: \"))\n",
        "if (x<5):\n",
        "  print (\"yeu\")\n",
        "elif(x<7):\n",
        "   print(\"trung binh\")\n",
        "elif(x<8):\n",
        "     print(\"kha\")\n",
        "elif(x<9):\n",
        "      print(\"gioi\")\n",
        "else:\n",
        "        print(\"xuat sac\")\n"
      ],
      "execution_count": 15,
      "outputs": [
        {
          "output_type": "stream",
          "name": "stdout",
          "text": [
            "nhap diem: 10\n",
            "xuat sac\n"
          ]
        }
      ]
    }
  ]
}