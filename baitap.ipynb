{
  "nbformat": 4,
  "nbformat_minor": 0,
  "metadata": {
    "colab": {
      "name": "baitap.ipynb",
      "provenance": [],
      "authorship_tag": "ABX9TyOkXIpBHj7pdVcjv50ZrA0T",
      "include_colab_link": true
    },
    "kernelspec": {
      "name": "python3",
      "display_name": "Python 3"
    },
    "language_info": {
      "name": "python"
    }
  },
  "cells": [
    {
      "cell_type": "markdown",
      "metadata": {
        "id": "view-in-github",
        "colab_type": "text"
      },
      "source": [
        "<a href=\"https://colab.research.google.com/github/lenaphamthi/baitapchuong3/blob/main/baitap.ipynb\" target=\"_parent\"><img src=\"https://colab.research.google.com/assets/colab-badge.svg\" alt=\"Open In Colab\"/></a>"
      ]
    },
    {
      "cell_type": "code",
      "metadata": {
        "colab": {
          "base_uri": "https://localhost:8080/"
        },
        "id": "nARWAhN_CAjd",
        "outputId": "af5d8ddd-d9e9-400e-eaa7-5b14fc974007"
      },
      "source": [
        "x = float(input(\"Enter a number: \"))\n",
        "if x > 0:\n",
        "   print(\"Positive number\")\n",
        "else:\n",
        "   print(\"Negative number\")"
      ],
      "execution_count": 1,
      "outputs": [
        {
          "output_type": "stream",
          "name": "stdout",
          "text": [
            "Enter a number: -1\n",
            "Negative number\n"
          ]
        }
      ]
    },
    {
      "cell_type": "code",
      "metadata": {
        "colab": {
          "base_uri": "https://localhost:8080/"
        },
        "id": "cWSZEoYPCbQM",
        "outputId": "c52b7271-3b9b-4e1b-8d4b-4cae4c0e08ac"
      },
      "source": [
        "num1 = float(input(\"num1 :\"))\n",
        "num2 = float(input(\"num2 :\"))\n",
        "num3 = float(input(\"num3 :\"))\n",
        "if (num1 > num2):\n",
        "  print (\"the greatest number: \",num1)\n",
        "elif (num2 > num3):\n",
        "  print (\"the greatest number: \",num2)\n",
        "else :\n",
        "  print (\"the greatest number: \",num3)"
      ],
      "execution_count": 27,
      "outputs": [
        {
          "output_type": "stream",
          "name": "stdout",
          "text": [
            "num1 :12\n",
            "num2 :35\n",
            "num3 :47\n",
            "the greatest number:  47.0\n"
          ]
        }
      ]
    },
    {
      "cell_type": "code",
      "metadata": {
        "colab": {
          "base_uri": "https://localhost:8080/"
        },
        "id": "YLKBiYt3D5C0",
        "outputId": "b40c46e6-f038-4a9e-e6b4-7e28b6b6e8ce"
      },
      "source": [
        "x = int(input(\"input number: \"))\n",
        "if x == 0.0:\n",
        "  print (\"zero\")\n",
        "elif x < 0:\n",
        "  print (\"Negative\")\n",
        "else:\n",
        "  print (\"Positive\")\n",
        "if abs(x) < 1:\n",
        "  print (\"Small\")\n",
        "elif abs(x) > 1000000:\n",
        "  print (\"Large\")"
      ],
      "execution_count": 13,
      "outputs": [
        {
          "output_type": "stream",
          "name": "stdout",
          "text": [
            "input number: 0\n",
            "zero\n",
            "Small\n"
          ]
        }
      ]
    },
    {
      "cell_type": "code",
      "metadata": {
        "colab": {
          "base_uri": "https://localhost:8080/"
        },
        "id": "cYd-r-dfJqAi",
        "outputId": "cba5a671-7328-42d4-c5be-261bd0cf9673"
      },
      "source": [
        "a = int(input())\n",
        "if a == 1:\n",
        "  print(\"Monday\")\n",
        "elif a == 2:\n",
        "  print(\"Tuesday\")\n",
        "elif a== 3:\n",
        "  print(\"Wednesday\")\n",
        "elif a == 4:\n",
        "  print(\"Thursday\")\n",
        "elif a == 5:\n",
        "  print(\"Friday\")\n",
        "elif a == 6:\n",
        "  print(\"Saturday\")\n",
        "elif a== 7:\n",
        "  print(\"Sunday\")\n",
        "else :\n",
        "  print (\"not valid\")"
      ],
      "execution_count": 39,
      "outputs": [
        {
          "output_type": "stream",
          "name": "stdout",
          "text": [
            "8\n",
            "not valid\n"
          ]
        }
      ]
    },
    {
      "cell_type": "code",
      "metadata": {
        "colab": {
          "base_uri": "https://localhost:8080/"
        },
        "id": "Ph_W7QdhIrL6",
        "outputId": "764be737-271e-455f-90b1-e30aac3597e1"
      },
      "source": [
        " num1 = float(input(\"num1= \"))\n",
        " num2 = float(input(\"num2= \")) \n",
        " if (abs(num1 - num2) <= 0.000):\n",
        "     print(\"These numbers are the same.\"); \n",
        " else:\n",
        "     print(\"These numbers are different.\");"
      ],
      "execution_count": 36,
      "outputs": [
        {
          "output_type": "stream",
          "name": "stdout",
          "text": [
            "num1= 25.586\n",
            "num2= 25.589\n",
            "These numbers are different.\n"
          ]
        }
      ]
    }
  ]
}