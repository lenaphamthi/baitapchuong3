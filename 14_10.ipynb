{
  "nbformat": 4,
  "nbformat_minor": 0,
  "metadata": {
    "colab": {
      "name": "14/10.ipynb",
      "provenance": [],
      "authorship_tag": "ABX9TyNNFwKkFmmhZGL7Mc6oCkmA",
      "include_colab_link": true
    },
    "kernelspec": {
      "name": "python3",
      "display_name": "Python 3"
    },
    "language_info": {
      "name": "python"
    }
  },
  "cells": [
    {
      "cell_type": "markdown",
      "metadata": {
        "id": "view-in-github",
        "colab_type": "text"
      },
      "source": [
        "<a href=\"https://colab.research.google.com/github/lenaphamthi/baitapchuong3/blob/main/14_10.ipynb\" target=\"_parent\"><img src=\"https://colab.research.google.com/assets/colab-badge.svg\" alt=\"Open In Colab\"/></a>"
      ]
    },
    {
      "cell_type": "markdown",
      "metadata": {
        "id": "8nmoPEWL4Lca"
      },
      "source": [
        "1. Write a Python program to find the number of days in a month."
      ]
    },
    {
      "cell_type": "code",
      "metadata": {
        "colab": {
          "base_uri": "https://localhost:8080/"
        },
        "id": "n99_CYnlfLBV",
        "outputId": "903c06ab-a9ae-4a1e-ce60-3c3f44b702c1"
      },
      "source": [
        "i = int(input(\"thang : \"))\n",
        "nam = int(input(\"nam : \"))\n",
        "if i == 1 or i == 3 or i == 5 or i == 7 or i == 8 or i == 10 or i == 12:\n",
        "  print (\"có : 31 ngày \")\n",
        "elif i == 4 or i == 6 or i == 9 or i == 11:\n",
        "   print (\"có : 30 ngày \")\n",
        "else:\n",
        "  if nam % 4 == 0:\n",
        "   print (\"có : 29 ngày \")\n",
        "  else:\n",
        "     print (\"có : 28 ngày \")\n"
      ],
      "execution_count": null,
      "outputs": [
        {
          "output_type": "stream",
          "name": "stdout",
          "text": [
            "thang : 10\n",
            "nam : 2021\n",
            "có : 31 ngày \n"
          ]
        }
      ]
    },
    {
      "cell_type": "markdown",
      "metadata": {
        "id": "_CyUuqM-4JM8"
      },
      "source": [
        "2.Write a Python program that takes the user to provide a single character from the alphabet. Print\n",
        "Vowel or Consonant, depending on the user input. If the user input is not a letter (between a and z\n",
        "or A and Z), or is a string of length > 1, print an error message."
      ]
    },
    {
      "cell_type": "code",
      "metadata": {
        "colab": {
          "base_uri": "https://localhost:8080/"
        },
        "id": "RNwXdcMBth0a",
        "outputId": "33d7efe5-efd6-477b-f7f3-6740c57af541"
      },
      "source": [
        "\n",
        "n = (input())\n",
        "if len(n)>1:\n",
        "  print(\"ERROR\")\n",
        "else:\n",
        "   if n == \"a\" or n == \"ă\" or n == \"â\" or n == \"ê\" or n == \"e\" or n == \"i\" or n == \"u\" or n == \"ư\" or n == \"y\" or n == \"o\" or n == \"ô\" or n == \"ơ\" :\n",
        "    print(\"nguyên âm \")\n",
        "   elif n == \"1\" or n == \"2\" or n == \"3\" or n == \"4\" or n == \"5\" or n == \"6\" or n == \"7\" or n == \"8\" or n == \"9\":\n",
        "     print(\"ERROR\")\n",
        "   else: \n",
        "     print(\"phụ âm\")"
      ],
      "execution_count": 31,
      "outputs": [
        {
          "output_type": "stream",
          "name": "stdout",
          "text": [
            "h\n",
            "phụ âm\n"
          ]
        }
      ]
    },
    {
      "cell_type": "markdown",
      "metadata": {
        "id": "GKlkk0UEtfsZ"
      },
      "source": [
        "3. Write a Python program that takes a year from user and print whether that year is a leap year or\n",
        "not"
      ]
    },
    {
      "cell_type": "code",
      "metadata": {
        "colab": {
          "base_uri": "https://localhost:8080/"
        },
        "id": "xGPMAURZsaV1",
        "outputId": "933cd48f-7ed0-4f1c-d9ab-c36f8f7a279c"
      },
      "source": [
        "x = int(input(\"nhap so nam : \"))\n",
        "if x % 4 == 4:\n",
        "  print(x, \"  la nam nhuan \")\n",
        "else:\n",
        "  print(x, \" khong phai nam nhuan\")\n"
      ],
      "execution_count": null,
      "outputs": [
        {
          "output_type": "stream",
          "name": "stdout",
          "text": [
            "nhap so nam : 1998\n",
            "1998  khong phai nam nhuan\n"
          ]
        }
      ]
    },
    {
      "cell_type": "markdown",
      "metadata": {
        "id": "6mjbYkMI549S"
      },
      "source": [
        "4. Write a program in Python to input 5 numbers from keyboard and find their sum and average."
      ]
    },
    {
      "cell_type": "code",
      "metadata": {
        "colab": {
          "base_uri": "https://localhost:8080/"
        },
        "id": "swhiUWR4i5in",
        "outputId": "8337f1f0-2a91-434c-a71c-6fb1f1538f8e"
      },
      "source": [
        "x = print (\"nhap 5 so : \")\n",
        "a = int(input())\n",
        "b = int(input())\n",
        "c = int(input())\n",
        "d = int(input())\n",
        "e = int(input())\n",
        "tong = a+b+c+d+e\n",
        "trungbinh = (a+b+c+d+e)/5\n",
        "print (\"tong cua 5 so : \", tong)\n",
        "print (\"trung binh cua 5 so : \", trungbinh)"
      ],
      "execution_count": null,
      "outputs": [
        {
          "output_type": "stream",
          "name": "stdout",
          "text": [
            "nhap 5 so : \n",
            "5\n",
            "2\n",
            "7\n",
            "3\n",
            "5\n",
            "tong cua 5 so :  22\n",
            "trung binh cua 5 so :  4.4\n"
          ]
        }
      ]
    }
  ]
}